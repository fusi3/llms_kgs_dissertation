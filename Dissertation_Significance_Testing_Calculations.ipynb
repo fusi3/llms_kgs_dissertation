{
  "nbformat": 4,
  "nbformat_minor": 0,
  "metadata": {
    "colab": {
      "provenance": []
    },
    "kernelspec": {
      "name": "python3",
      "display_name": "Python 3"
    },
    "language_info": {
      "name": "python"
    }
  },
  "cells": [
    {
      "cell_type": "markdown",
      "source": [
        "Two Proportion Z Test - Overall Accuracy\n"
      ],
      "metadata": {
        "id": "k4wavvJJKGKU"
      }
    },
    {
      "cell_type": "code",
      "execution_count": 1,
      "metadata": {
        "id": "5QyHtVHHJ54j"
      },
      "outputs": [],
      "source": [
        "from statsmodels.stats.proportion import proportions_ztest\n",
        "#https://www.statsmodels.org/dev/generated/statsmodels.stats.proportion.proportions_ztest.html"
      ]
    },
    {
      "cell_type": "code",
      "source": [
        "#llama 2\n",
        "total_questions_llama2 = 7260\n",
        "correct_answers_llama2 = 4352\n",
        "\n",
        "#llama 3\n",
        "total_questions_llama3 = 7260\n",
        "correct_answers_llama3 = 5342\n",
        "\n",
        "#two-proportion z-test\n",
        "answers = [correct_answers_llama2, correct_answers_llama3]\n",
        "questions = [total_questions_llama2, total_questions_llama3]\n",
        "\n",
        "z_stat, p_value = proportions_ztest(answers, questions)\n",
        "\n",
        "formatted_p_value = \"{:.5e}\".format(p_value)\n",
        "\n",
        "#result\n",
        "print(f\"Z-statistic: {z_stat}\")\n",
        "print(f\"P-value: {formatted_p_value}\")\n",
        "\n",
        "if p_value < 0.05:\n",
        "    print(\"At the 5% level: The difference in accuracy is statistically significant\")\n",
        "else:\n",
        "    print(\"At the 5% level: The difference in accuracy is not statistically significant\")\n",
        "\n",
        "if p_value < 0.01:\n",
        "    print(\"At the 1% level: The difference in accuracy is statistically significant\")\n",
        "else:\n",
        "    print(\"At the 1% level: The difference in accuracy is not statistically significant\")"
      ],
      "metadata": {
        "colab": {
          "base_uri": "https://localhost:8080/"
        },
        "id": "a6Jq9wsaKBSx",
        "outputId": "12f09ee4-299a-4e1f-dcb2-09583c08d3f6"
      },
      "execution_count": null,
      "outputs": [
        {
          "output_type": "stream",
          "name": "stdout",
          "text": [
            "Z-statistic: -17.44107848007822\n",
            "P-value: 4.02408e-68\n",
            "At the 5% level: The difference in accuracy is statistically significant\n",
            "At the 1% level: The difference in accuracy is statistically significant\n"
          ]
        }
      ]
    },
    {
      "cell_type": "code",
      "source": [],
      "metadata": {
        "id": "Irs1SDT2Kr6y"
      },
      "execution_count": null,
      "outputs": []
    },
    {
      "cell_type": "markdown",
      "source": [
        "llama 2 extract relevant vs llama 3 extract relevant"
      ],
      "metadata": {
        "id": "gEHoikMYThDX"
      }
    },
    {
      "cell_type": "code",
      "source": [
        "#llama 2\n",
        "total_questions_llama2 = 1815\n",
        "correct_answers_llama2 = 841\n",
        "\n",
        "#llama 3\n",
        "total_questions_llama3 = 1815\n",
        "correct_answers_llama3 = 936\n",
        "\n",
        "#two-proportion z-test\n",
        "answers = [correct_answers_llama2, correct_answers_llama3]\n",
        "questions = [total_questions_llama2, total_questions_llama3]\n",
        "\n",
        "z_stat, p_value = proportions_ztest(answers, questions)\n",
        "\n",
        "formatted_p_value = \"{:.5e}\".format(p_value)\n",
        "\n",
        "#result\n",
        "print(f\"Z-statistic: {z_stat}\")\n",
        "print(f\"P-value: {formatted_p_value}\")\n",
        "\n",
        "if p_value < 0.05:\n",
        "    print(\"At the 5% level: The difference in accuracy is statistically significant\")\n",
        "else:\n",
        "    print(\"At the 5% level: The difference in accuracy is not statistically significant\")\n",
        "\n",
        "if p_value < 0.01:\n",
        "    print(\"At the 1% level: The difference in accuracy is statistically significant\")\n",
        "else:\n",
        "    print(\"At the 1% level: The difference in accuracy is not statistically significant\")"
      ],
      "metadata": {
        "id": "Bmmr2njnTmUG",
        "colab": {
          "base_uri": "https://localhost:8080/"
        },
        "outputId": "6edb9932-1d6e-4d3b-e3e1-f4779090fdd5"
      },
      "execution_count": null,
      "outputs": [
        {
          "output_type": "stream",
          "name": "stdout",
          "text": [
            "Z-statistic: -3.15424551524092\n",
            "P-value: 1.60914e-03\n",
            "At the 5% level: The difference in accuracy is statistically significant\n",
            "At the 1% level: The difference in accuracy is statistically significant\n"
          ]
        }
      ]
    },
    {
      "cell_type": "code",
      "source": [
        "#llama 2 extract relevant fewshot vs llama 3 extract relevant fewshot\n",
        "\n",
        "#llama 2\n",
        "total_questions_llama2 = 1815\n",
        "correct_answers_llama2 = 1073\n",
        "\n",
        "#llama 3\n",
        "total_questions_llama3 = 1815\n",
        "correct_answers_llama3 = 1139\n",
        "\n",
        "#two-proportion z-test\n",
        "answers = [correct_answers_llama2, correct_answers_llama3]\n",
        "questions = [total_questions_llama2, total_questions_llama3]\n",
        "\n",
        "z_stat, p_value = proportions_ztest(answers, questions)\n",
        "\n",
        "formatted_p_value = \"{:.5e}\".format(p_value)\n",
        "\n",
        "#result\n",
        "print(f\"Z-statistic: {z_stat}\")\n",
        "print(f\"P-value: {formatted_p_value}\")\n",
        "\n",
        "if p_value < 0.05:\n",
        "    print(\"At the 5% level: The difference in accuracy is statistically significant\")\n",
        "else:\n",
        "    print(\"At the 5% level: The difference in accuracy is not statistically significant\")\n",
        "\n",
        "if p_value < 0.01:\n",
        "    print(\"At the 1% level: The difference in accuracy is statistically significant\")\n",
        "else:\n",
        "    print(\"At the 1% level: The difference in accuracy is not statistically significant\")"
      ],
      "metadata": {
        "colab": {
          "base_uri": "https://localhost:8080/"
        },
        "id": "kBsBuyosi_eY",
        "outputId": "3da4d3a1-192e-43e9-df8d-3a2bd9f7cea5"
      },
      "execution_count": null,
      "outputs": [
        {
          "output_type": "stream",
          "name": "stdout",
          "text": [
            "Z-statistic: -2.2452596483534935\n",
            "P-value: 2.47515e-02\n",
            "At the 5% level: The difference in accuracy is statistically significant\n",
            "At the 1% level: The difference in accuracy is not statistically significant\n"
          ]
        }
      ]
    },
    {
      "cell_type": "code",
      "source": [
        "#llama 2 simple relevant vs llama 3 simple relevant\n",
        "\n",
        "#llama 2\n",
        "total_questions_llama2 = 1815\n",
        "correct_answers_llama2 = 1227\n",
        "\n",
        "#llama 3\n",
        "total_questions_llama3 = 1815\n",
        "correct_answers_llama3 = 1621\n",
        "\n",
        "#two-proportion z-test\n",
        "answers = [correct_answers_llama2, correct_answers_llama3]\n",
        "questions = [total_questions_llama2, total_questions_llama3]\n",
        "\n",
        "z_stat, p_value = proportions_ztest(answers, questions)\n",
        "\n",
        "formatted_p_value = \"{:.5e}\".format(p_value)\n",
        "\n",
        "#result\n",
        "print(f\"Z-statistic: {z_stat}\")\n",
        "print(f\"P-value: {formatted_p_value}\")\n",
        "\n",
        "if p_value < 0.05:\n",
        "    print(\"At the 5% level: The difference in accuracy is statistically significant\")\n",
        "else:\n",
        "    print(\"At the 5% level: The difference in accuracy is not statistically significant\")\n",
        "\n",
        "if p_value < 0.01:\n",
        "    print(\"At the 1% level: The difference in accuracy is statistically significant\")\n",
        "else:\n",
        "    print(\"At the 1% level: The difference in accuracy is not statistically significant\")"
      ],
      "metadata": {
        "colab": {
          "base_uri": "https://localhost:8080/"
        },
        "id": "wdao8AEFsxD0",
        "outputId": "2103d510-1703-4f78-da37-c09d8c36398b"
      },
      "execution_count": null,
      "outputs": [
        {
          "output_type": "stream",
          "name": "stdout",
          "text": [
            "Z-statistic: -15.906556240221098\n",
            "P-value: 5.70674e-57\n",
            "At the 5% level: The difference in accuracy is statistically significant\n",
            "At the 1% level: The difference in accuracy is statistically significant\n"
          ]
        }
      ]
    },
    {
      "cell_type": "code",
      "source": [
        "#llama 2 simple relevant fewshot vs llama 3 simple relevant fewshot\n",
        "\n",
        "#llama 2\n",
        "total_questions_llama2 = 1815\n",
        "correct_answers_llama2 = 1211\n",
        "\n",
        "#llama 3\n",
        "total_questions_llama3 = 1815\n",
        "correct_answers_llama3 = 1646\n",
        "\n",
        "#two-proportion z-test\n",
        "answers = [correct_answers_llama2, correct_answers_llama3]\n",
        "questions = [total_questions_llama2, total_questions_llama3]\n",
        "\n",
        "z_stat, p_value = proportions_ztest(answers, questions)\n",
        "\n",
        "formatted_p_value = \"{:.5e}\".format(p_value)\n",
        "\n",
        "#result\n",
        "print(f\"Z-statistic: {z_stat}\")\n",
        "print(f\"P-value: {formatted_p_value}\")\n",
        "\n",
        "if p_value < 0.05:\n",
        "    print(\"At the 5% level: The difference in accuracy is statistically significant\")\n",
        "else:\n",
        "    print(\"At the 5% level: The difference in accuracy is not statistically significant\")\n",
        "\n",
        "if p_value < 0.01:\n",
        "    print(\"At the 1% level: The difference in accuracy is statistically significant\")\n",
        "else:\n",
        "    print(\"At the 1% level: The difference in accuracy is not statistically significant\")"
      ],
      "metadata": {
        "colab": {
          "base_uri": "https://localhost:8080/"
        },
        "id": "Qsq75EpIsxGY",
        "outputId": "ce367d20-6f90-4ad8-a186-a91fe0ef4d82"
      },
      "execution_count": null,
      "outputs": [
        {
          "output_type": "stream",
          "name": "stdout",
          "text": [
            "Z-statistic: -17.635903034246706\n",
            "P-value: 1.30593e-69\n",
            "At the 5% level: The difference in accuracy is statistically significant\n",
            "At the 1% level: The difference in accuracy is statistically significant\n"
          ]
        }
      ]
    },
    {
      "cell_type": "code",
      "source": [
        "#llama 2 extract relevant vs llama 2 extract relevant fewshot\n",
        "\n",
        "#extract relevant\n",
        "total_questions_llama2_extract_relevant = 1815\n",
        "correct_answers_llama2_extract_relevant = 841\n",
        "\n",
        "#extract relevant fewshot\n",
        "total_questions_llama2_extract_relevant_fewshot = 1815\n",
        "correct_answers_llama2_extract_relevant_fewshot = 1073\n",
        "\n",
        "#two-proportion z-test\n",
        "answers = [correct_answers_llama2_extract_relevant, correct_answers_llama2_extract_relevant_fewshot]\n",
        "questions = [total_questions_llama2_extract_relevant, total_questions_llama2_extract_relevant_fewshot]\n",
        "\n",
        "z_stat, p_value = proportions_ztest(answers, questions)\n",
        "\n",
        "formatted_p_value = \"{:.5e}\".format(p_value)\n",
        "\n",
        "#result\n",
        "print(f\"Z-statistic: {z_stat}\")\n",
        "print(f\"P-value: {formatted_p_value}\")\n",
        "\n",
        "if p_value < 0.05:\n",
        "    print(\"At the 5% level: The difference in accuracy is statistically significant\")\n",
        "else:\n",
        "    print(\"At the 5% level: The difference in accuracy is not statistically significant\")\n",
        "\n",
        "if p_value < 0.01:\n",
        "    print(\"At the 1% level: The difference in accuracy is statistically significant\")\n",
        "else:\n",
        "    print(\"At the 1% level: The difference in accuracy is not statistically significant\")"
      ],
      "metadata": {
        "colab": {
          "base_uri": "https://localhost:8080/"
        },
        "id": "PpERCO5tsxI-",
        "outputId": "a460d06f-7508-456f-b004-a85846a6c5f4"
      },
      "execution_count": null,
      "outputs": [
        {
          "output_type": "stream",
          "name": "stdout",
          "text": [
            "Z-statistic: -7.712793235085425\n",
            "P-value: 1.23093e-14\n",
            "At the 5% level: The difference in accuracy is statistically significant\n",
            "At the 1% level: The difference in accuracy is statistically significant\n"
          ]
        }
      ]
    },
    {
      "cell_type": "code",
      "source": [
        "#llama 2 simple relevant vs llama 2 simple relevant fewshot\n",
        "\n",
        "#simple relevant\n",
        "total_questions_llama2_simple_relevant = 1815\n",
        "correct_answers_llama2_simple_relevant = 1227\n",
        "\n",
        "#simple relevant fewshot\n",
        "total_questions_llama2_simple_relevant_fewshot = 1815\n",
        "correct_answers_llama2_simple_relevant_fewshot = 1211\n",
        "\n",
        "#two-proportion z-test\n",
        "answers = [correct_answers_llama2_simple_relevant_fewshot, correct_answers_llama2_simple_relevant]\n",
        "questions = [total_questions_llama2_simple_relevant_fewshot, total_questions_llama2_simple_relevant]\n",
        "\n",
        "z_stat, p_value = proportions_ztest(answers, questions)\n",
        "\n",
        "formatted_p_value = \"{:.5e}\".format(p_value)\n",
        "\n",
        "#result\n",
        "print(f\"Z-statistic: {z_stat}\")\n",
        "print(f\"P-value: {formatted_p_value}\")\n",
        "\n",
        "if p_value < 0.05:\n",
        "    print(\"At the 5% level: The difference in accuracy is statistically significant\")\n",
        "else:\n",
        "    print(\"At the 5% level: The difference in accuracy is not statistically significant\")\n",
        "\n",
        "if p_value < 0.01:\n",
        "    print(\"At the 1% level: The difference in accuracy is statistically significant\")\n",
        "else:\n",
        "    print(\"At the 1% level: The difference in accuracy is not statistically significant\")"
      ],
      "metadata": {
        "colab": {
          "base_uri": "https://localhost:8080/"
        },
        "id": "jBTpHjpRsxLm",
        "outputId": "b6bfc955-b779-4439-a69a-3d84481336b5"
      },
      "execution_count": null,
      "outputs": [
        {
          "output_type": "stream",
          "name": "stdout",
          "text": [
            "Z-statistic: -0.5654813899624543\n",
            "P-value: 5.71746e-01\n",
            "At the 5% level: The difference in accuracy is not statistically significant\n",
            "At the 1% level: The difference in accuracy is not statistically significant\n"
          ]
        }
      ]
    },
    {
      "cell_type": "code",
      "source": [
        "#llama 3 simple relevant vs llama 3 simple relevant fewshot\n",
        "\n",
        "#simple relevant\n",
        "total_questions_llama3_simple_relevant = 1815\n",
        "correct_answers_llama3_simple_relevant = 1621\n",
        "\n",
        "#simple relevant fewshot\n",
        "total_questions_llama3_simple_relevant_fewshot = 1815\n",
        "correct_answers_llama3_simple_relevant_fewshot = 1646\n",
        "\n",
        "#two-proportion z-test\n",
        "answers = [correct_answers_llama3_simple_relevant, correct_answers_llama3_simple_relevant_fewshot]\n",
        "questions = [total_questions_llama3_simple_relevant, total_questions_llama3_simple_relevant_fewshot]\n",
        "\n",
        "z_stat, p_value = proportions_ztest(answers, questions)\n",
        "\n",
        "formatted_p_value = \"{:.5e}\".format(p_value)\n",
        "\n",
        "#result\n",
        "print(f\"Z-statistic: {z_stat}\")\n",
        "print(f\"P-value: {formatted_p_value}\")\n",
        "\n",
        "if p_value < 0.05:\n",
        "    print(\"At the 5% level: The difference in accuracy is statistically significant\")\n",
        "else:\n",
        "    print(\"At the 5% level: The difference in accuracy is not statistically significant\")\n",
        "\n",
        "if p_value < 0.01:\n",
        "    print(\"At the 1% level: The difference in accuracy is statistically significant\")\n",
        "else:\n",
        "    print(\"At the 1% level: The difference in accuracy is not statistically significant\")"
      ],
      "metadata": {
        "colab": {
          "base_uri": "https://localhost:8080/"
        },
        "id": "T3r8rZpdsxOD",
        "outputId": "77aa8cfd-71c7-466b-d1af-6eae6fe6264d"
      },
      "execution_count": null,
      "outputs": [
        {
          "output_type": "stream",
          "name": "stdout",
          "text": [
            "Z-statistic: -1.3831377714776951\n",
            "P-value: 1.66623e-01\n",
            "At the 5% level: The difference in accuracy is not statistically significant\n",
            "At the 1% level: The difference in accuracy is not statistically significant\n"
          ]
        }
      ]
    },
    {
      "cell_type": "code",
      "source": [
        "#llama 3 extract relevant vs llama 3 extract relevant fewshot\n",
        "\n",
        "#extract relevant\n",
        "total_questions_llama3_extract_relevant = 1815\n",
        "correct_answers_llama3_extract_relevant = 936\n",
        "\n",
        "#extract relevant fewshot\n",
        "total_questions_llama3_extract_relevant_fewshot = 1815\n",
        "correct_answers_llama3_extract_relevant_fewshot = 1139\n",
        "\n",
        "#two-proportion z-test\n",
        "answers = [correct_answers_llama3_extract_relevant, correct_answers_llama3_extract_relevant_fewshot]\n",
        "questions = [total_questions_llama3_extract_relevant, total_questions_llama3_extract_relevant_fewshot]\n",
        "\n",
        "z_stat, p_value = proportions_ztest(answers, questions)\n",
        "\n",
        "formatted_p_value = \"{:.5e}\".format(p_value)\n",
        "\n",
        "#result\n",
        "print(f\"Z-statistic: {z_stat}\")\n",
        "print(f\"P-value: {formatted_p_value}\")\n",
        "\n",
        "if p_value < 0.05:\n",
        "    print(\"At the 5% level: The difference in accuracy is statistically significant\")\n",
        "else:\n",
        "    print(\"At the 5% level: The difference in accuracy is not statistically significant\")\n",
        "\n",
        "if p_value < 0.01:\n",
        "    print(\"At the 1% level: The difference in accuracy is statistically significant\")\n",
        "else:\n",
        "    print(\"At the 1% level: The difference in accuracy is not statistically significant\")"
      ],
      "metadata": {
        "colab": {
          "base_uri": "https://localhost:8080/"
        },
        "id": "Vw_nh9I9sxQa",
        "outputId": "0a788af1-3756-407e-8897-87d00a416990"
      },
      "execution_count": null,
      "outputs": [
        {
          "output_type": "stream",
          "name": "stdout",
          "text": [
            "Z-statistic: -6.808870953863769\n",
            "P-value: 9.83677e-12\n",
            "At the 5% level: The difference in accuracy is statistically significant\n",
            "At the 1% level: The difference in accuracy is statistically significant\n"
          ]
        }
      ]
    },
    {
      "cell_type": "code",
      "source": [],
      "metadata": {
        "id": "D9s6LQdrpRPF"
      },
      "execution_count": null,
      "outputs": []
    }
  ]
}